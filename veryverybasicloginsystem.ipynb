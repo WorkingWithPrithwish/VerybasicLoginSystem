{
 "cells": [
  {
   "cell_type": "code",
   "execution_count": null,
   "metadata": {},
   "outputs": [],
   "source": [
    "import time \n",
    "def main_menu():\n",
    "    print(\"Welcome to python login system\")\n",
    "    print('Enter Your options')\n",
    "    print(\"Press 1 for SingnUp\")\n",
    "    print(\"Press 2 for Login\")\n",
    "    option = input()\n",
    "    if option == '1':\n",
    "        option_1()\n",
    "    elif option == '2':\n",
    "        option_2()\n",
    "        \n",
    "def option_1():\n",
    "    while True:\n",
    "        username  = input(\"Enter a username:\")\n",
    "        password  = input(\"Enter a password:\")\n",
    "        password1 = input(\"Confirm password:\")\n",
    "        if password == password1:\n",
    "            file = open(username+\".txt\", \"w\")\n",
    "            file.write(username+\":\"+password)\n",
    "            file.close()\n",
    "            break\n",
    "        print(\"Passwords do NOT match!\")\n",
    "    time.sleep(2)\n",
    "    main_menu()\n",
    "\n",
    "def option_2():\n",
    "    while True:\n",
    "        login1 = input(\"Login:\")\n",
    "        login2 = input(\"Password:\")\n",
    "        file = open(login1+\".txt\", \"r\")\n",
    "        data   = file.readline()\n",
    "        file.close()\n",
    "        if data == login1+\":\"+login2:\n",
    "            print(\"Welcome\")\n",
    "            break\n",
    "        print(\"Incorrect username or password.\")\n",
    "    time.sleep(2)        \n",
    "                    \n",
    "main_menu()"
   ]
  },
  {
   "cell_type": "code",
   "execution_count": null,
   "metadata": {},
   "outputs": [],
   "source": []
  }
 ],
 "metadata": {
  "kernelspec": {
   "display_name": "Python 3",
   "language": "python",
   "name": "python3"
  },
  "language_info": {
   "codemirror_mode": {
    "name": "ipython",
    "version": 3
   },
   "file_extension": ".py",
   "mimetype": "text/x-python",
   "name": "python",
   "nbconvert_exporter": "python",
   "pygments_lexer": "ipython3",
   "version": "3.7.7"
  }
 },
 "nbformat": 4,
 "nbformat_minor": 4
}
